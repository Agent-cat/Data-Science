{
 "cells": [
  {
   "cell_type": "markdown",
   "id": "d488a8fd",
   "metadata": {},
   "source": []
  },
  {
   "cell_type": "code",
   "execution_count": 1,
   "id": "9a63f132",
   "metadata": {},
   "outputs": [
    {
     "name": "stdout",
     "output_type": "stream",
     "text": [
      "<class 'type'>\n",
      "<class '__main__.Chai'>\n"
     ]
    }
   ],
   "source": [
    "class Chai:\n",
    "    pass\n",
    "\n",
    "print(type(Chai))\n",
    "ginger_Tea=Chai() # This is an object of chai \n",
    "print(type(ginger_Tea))\n"
   ]
  },
  {
   "cell_type": "markdown",
   "id": "09e0dec8",
   "metadata": {},
   "source": [
    "- If we change in the object attributes, it will not affect the class attributes."
   ]
  },
  {
   "cell_type": "code",
   "execution_count": 4,
   "id": "cb27a68c",
   "metadata": {},
   "outputs": [
    {
     "name": "stdout",
     "output_type": "stream",
     "text": [
      "india\n",
      "india\n",
      "True\n"
     ]
    }
   ],
   "source": [
    "class Chai:\n",
    "    origin=\"india\"\n",
    "\n",
    "print(Chai.origin)\n",
    "Chai.is_hot=True\n",
    "ginger_Tea=Chai() # This is an object of chai \n",
    "print(ginger_Tea.origin)\n",
    "print(ginger_Tea.is_hot)\n"
   ]
  },
  {
   "cell_type": "markdown",
   "id": "5104957d",
   "metadata": {},
   "source": [
    "---\n",
    "### Attribute Shadowing\n",
    "- it takes the class attribute if it is not present in the object or deleated."
   ]
  },
  {
   "cell_type": "code",
   "execution_count": null,
   "id": "5ae7faf8",
   "metadata": {},
   "outputs": [
    {
     "name": "stdout",
     "output_type": "stream",
     "text": [
      "hot\n",
      "cold\n",
      "hot\n",
      "After delletion hot\n"
     ]
    }
   ],
   "source": [
    "class Chai1:\n",
    "    temperature=\"hot\"\n",
    "    strength=\"strong\"\n",
    "    \n",
    "cutting=Chai1()\n",
    "print(cutting.temperature) # hot\n",
    "cutting.temperature=\"cold\"\n",
    "print(cutting.temperature) # cold\n",
    "print(Chai1.temperature) # hot\n",
    "del cutting.temperature # Deletion \n",
    "print(\"After delletion \"+cutting.temperature) # hot\n",
    "    "
   ]
  },
  {
   "cell_type": "markdown",
   "id": "e0d754d6",
   "metadata": {},
   "source": [
    "---\n",
    "### Self arguments\n",
    "- The self argument is a reference to the current instance of the class.\n",
    "- It is used to access variables that belong to the class.\n",
    "- It must be the first parameter of any function in the class."
   ]
  },
  {
   "cell_type": "code",
   "execution_count": 12,
   "id": "2c317502",
   "metadata": {},
   "outputs": [
    {
     "name": "stdout",
     "output_type": "stream",
     "text": [
      "A 120 ml chai cup\n"
     ]
    }
   ],
   "source": [
    "class ChaiCup:\n",
    "    size=120 #ml\n",
    "    # self is used to refer all the attributes in the class\n",
    "    def describe(self): \n",
    "        return f\"A {self.size} ml chai cup\"\n",
    "\n",
    "cup=ChaiCup()\n",
    "print(cup.describe())    \n",
    "    "
   ]
  },
  {
   "cell_type": "markdown",
   "id": "46fd641d",
   "metadata": {},
   "source": [
    " ---\n",
    " ### Constructors (initializers or __init__ method)\n",
    "- Constructors are special methods that are called when an object is created."
   ]
  },
  {
   "cell_type": "code",
   "execution_count": null,
   "id": "ce1455b4",
   "metadata": {},
   "outputs": [
    {
     "name": "stdout",
     "output_type": "stream",
     "text": [
      "The order is 200 ml of vishnu\n"
     ]
    }
   ],
   "source": [
    "class ChaiOrder:\n",
    "    def __init__(self, type_, size):\n",
    "        self.type = type_  # we use type_ because type is an reserved keyword\n",
    "        self.size = size\n",
    "\n",
    "    def summary(self):\n",
    "        return f\"The order is {self.size} ml of {self.type}\"\n",
    "\n",
    "\n",
    "order = ChaiOrder(\"vishnu\", 200)\n",
    "print(order.summary())\n"
   ]
  }
 ],
 "metadata": {
  "kernelspec": {
   "display_name": "Python 3",
   "language": "python",
   "name": "python3"
  },
  "language_info": {
   "codemirror_mode": {
    "name": "ipython",
    "version": 3
   },
   "file_extension": ".py",
   "mimetype": "text/x-python",
   "name": "python",
   "nbconvert_exporter": "python",
   "pygments_lexer": "ipython3",
   "version": "3.13.3"
  }
 },
 "nbformat": 4,
 "nbformat_minor": 5
}
