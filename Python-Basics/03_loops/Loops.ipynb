{
 "cells": [
  {
   "cell_type": "markdown",
   "id": "661e8206",
   "metadata": {},
   "source": [
    "###  For Loop"
   ]
  },
  {
   "cell_type": "code",
   "execution_count": null,
   "id": "df80b6f1",
   "metadata": {},
   "outputs": [],
   "source": [
    "for i in range(1 ,11):\n",
    "    print(i)\n",
    "    \n",
    "    "
   ]
  },
  {
   "cell_type": "markdown",
   "id": "ea37106a",
   "metadata": {},
   "source": [
    "---\n",
    "### **Looping Through List**"
   ]
  },
  {
   "cell_type": "code",
   "execution_count": 2,
   "id": "d51cc3ae",
   "metadata": {},
   "outputs": [
    {
     "name": "stdout",
     "output_type": "stream",
     "text": [
      "vishnu\n",
      "arsha\n",
      "vardhan\n"
     ]
    }
   ],
   "source": [
    "names=[\"vishnu\",\"arsha\",\"vardhan\"]\n",
    "for name in names:\n",
    "    print(name)"
   ]
  },
  {
   "cell_type": "markdown",
   "id": "ab85e52c",
   "metadata": {},
   "source": [
    "---\n",
    "\n",
    "### Enumerate Method\n",
    "- This method is used to get the index and value of the list.\n"
   ]
  },
  {
   "cell_type": "code",
   "execution_count": null,
   "id": "732d5c09",
   "metadata": {},
   "outputs": [
    {
     "name": "stdout",
     "output_type": "stream",
     "text": [
      "['summer', 'winter', 'rainy']\n",
      "Season 1 is summer\n",
      "['summer', 'winter', 'rainy']\n",
      "Season 2 is winter\n",
      "['summer', 'winter', 'rainy']\n",
      "Season 3 is rainy\n"
     ]
    }
   ],
   "source": [
    "seasons=[\"summer\",\"winter\",\"rainy\"]\n",
    "for index, season in enumerate(seasons):\n",
    "   \n",
    "    print(f\"Season {index+1} is {season}\")"
   ]
  },
  {
   "cell_type": "markdown",
   "id": "2b309a4e",
   "metadata": {},
   "source": [
    "---\n",
    "\n",
    "# Zip Method\n",
    "- This method is used to combine two or more lists into a single list of tuples.\n",
    "-  it is used to combine two or more lists into a single list of tuples."
   ]
  },
  {
   "cell_type": "code",
   "execution_count": null,
   "id": "36778f83",
   "metadata": {},
   "outputs": [
    {
     "name": "stdout",
     "output_type": "stream",
     "text": [
      "vishnu has 100 rupees\n",
      "arsha has 200 rupees\n",
      "vardhan has 300 rupees\n"
     ]
    }
   ],
   "source": [
    "names=[\"vishnu\",\"arsha\",\"vardhan\"]\n",
    "amount=[100,200,300,400,500] #400 and 500 are extra\n",
    "for name, amount in zip(names, amount):\n",
    "    print(f\"{name} has {amount} rupees\")\n",
    "# it is used to combine two or more lists into a single list of tuples."
   ]
  },
  {
   "cell_type": "markdown",
   "id": "ed0cf8a0",
   "metadata": {},
   "source": [
    "---\n"
   ]
  },
  {
   "cell_type": "markdown",
   "id": "edbb2dd4",
   "metadata": {},
   "source": [
    "# While Loop\n"
   ]
  },
  {
   "cell_type": "code",
   "execution_count": null,
   "id": "f84fc912",
   "metadata": {},
   "outputs": [
    {
     "name": "stdout",
     "output_type": "stream",
     "text": [
      "40\n",
      "50\n",
      "60\n",
      "80\n",
      "90\n",
      "100\n"
     ]
    }
   ],
   "source": [
    "temperature = 40\n",
    "while temperature <= 100:\n",
    "    if temperature == 70:\n",
    "        temperature += 10 \n",
    "        continue  # skip printing when temperature is 70\n",
    "    if temperature == 85:\n",
    "        break  # exit the loop when temperature is 85\n",
    "    print(temperature)\n",
    "    temperature += 10\n"
   ]
  },
  {
   "cell_type": "markdown",
   "id": "599cd2c8",
   "metadata": {},
   "source": [
    "---\n",
    "\n",
    "## Wlarus operator\n",
    "- The walrus operator `:=` allows you to assign a value to a variable as part of an expression."
   ]
  },
  {
   "cell_type": "markdown",
   "id": "4e881399",
   "metadata": {},
   "source": [
    "\n",
    "### Example: With and Without Walrus Operator\n",
    "\n",
    "#### Without Walrus Operator\n",
    "```python\n",
    "data = input(\"Enter something: \")\n",
    "while data != \"quit\":\n",
    "    print(f\"You entered: {data}\")\n",
    "    data = input(\"Enter something: \")\n",
    "```\n",
    "\n",
    "#### With Walrus Operator\n",
    "```python\n",
    "while (data := input(\"Enter something: \")) != \"quit\":\n",
    "    print(f\"You entered: {data}\")\n",
    "```\n",
    "The walrus operator (`:=`) allows assignment and condition checking in a single line, making the code more concise.\n"
   ]
  }
 ],
 "metadata": {
  "kernelspec": {
   "display_name": "Python 3",
   "language": "python",
   "name": "python3"
  },
  "language_info": {
   "codemirror_mode": {
    "name": "ipython",
    "version": 3
   },
   "file_extension": ".py",
   "mimetype": "text/x-python",
   "name": "python",
   "nbconvert_exporter": "python",
   "pygments_lexer": "ipython3",
   "version": "3.13.3"
  }
 },
 "nbformat": 4,
 "nbformat_minor": 5
}
