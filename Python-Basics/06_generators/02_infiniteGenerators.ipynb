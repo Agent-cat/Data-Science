{
 "cells": [
  {
   "cell_type": "markdown",
   "id": "48a4a522",
   "metadata": {},
   "source": [
    "- it is more efficient ad it does not store the infinite values"
   ]
  },
  {
   "cell_type": "code",
   "execution_count": 1,
   "id": "6c0de733",
   "metadata": {},
   "outputs": [
    {
     "name": "stdout",
     "output_type": "stream",
     "text": [
      "refill 1\n",
      "refill 2\n",
      "refill 3\n",
      "refill 4\n",
      "refill 5\n"
     ]
    }
   ],
   "source": [
    "def  infinit_chai():\n",
    "    count=1\n",
    "    while True:\n",
    "        yield f\"refill {count}\"\n",
    "        count+=1\n",
    "refill=infinit_chai()\n",
    "for _ in range(5):\n",
    "    print(next(refill))"
   ]
  }
 ],
 "metadata": {
  "kernelspec": {
   "display_name": "Python 3",
   "language": "python",
   "name": "python3"
  },
  "language_info": {
   "codemirror_mode": {
    "name": "ipython",
    "version": 3
   },
   "file_extension": ".py",
   "mimetype": "text/x-python",
   "name": "python",
   "nbconvert_exporter": "python",
   "pygments_lexer": "ipython3",
   "version": "3.13.3"
  }
 },
 "nbformat": 4,
 "nbformat_minor": 5
}
