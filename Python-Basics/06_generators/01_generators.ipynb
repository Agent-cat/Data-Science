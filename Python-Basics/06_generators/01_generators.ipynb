{
 "cells": [
  {
   "cell_type": "markdown",
   "id": "be31dcbc",
   "metadata": {},
   "source": [
    "- we save menory by using generators"
   ]
  },
  {
   "cell_type": "code",
   "execution_count": 2,
   "id": "dc7fde5b",
   "metadata": {},
   "outputs": [
    {
     "name": "stdout",
     "output_type": "stream",
     "text": [
      "massala chai\n",
      "ice chai\n",
      "blue chai\n"
     ]
    }
   ],
   "source": [
    "def serve_chai():\n",
    "    yield \"massala chai\"\n",
    "    yield \"ice chai\"\n",
    "    yield \"blue chai\"\n",
    "\n",
    "x=serve_chai()\n",
    "for chai in x:\n",
    "    print(chai)    \n",
    "    "
   ]
  },
  {
   "cell_type": "markdown",
   "id": "c81b8c92",
   "metadata": {},
   "source": [
    "- it only keeps the reference to the value\n",
    "- it does not store the value in memory"
   ]
  },
  {
   "cell_type": "markdown",
   "id": "f23b27c1",
   "metadata": {},
   "source": [
    "we use next() to get the next value from the generator"
   ]
  },
  {
   "cell_type": "code",
   "execution_count": 8,
   "id": "45552628",
   "metadata": {},
   "outputs": [
    {
     "name": "stdout",
     "output_type": "stream",
     "text": [
      "massala chai\n",
      "ice chai\n",
      "blue chai\n"
     ]
    }
   ],
   "source": [
    "\n",
    "def serve_chai():\n",
    "    yield \"massala chai\"\n",
    "    yield \"ice chai\"\n",
    "    yield \"blue chai\"  \n",
    "x=serve_chai()\n",
    "print(next(x))\n",
    "print(next(x))\n",
    "print(next(x))\n"
   ]
  }
 ],
 "metadata": {
  "kernelspec": {
   "display_name": "Python 3",
   "language": "python",
   "name": "python3"
  },
  "language_info": {
   "codemirror_mode": {
    "name": "ipython",
    "version": 3
   },
   "file_extension": ".py",
   "mimetype": "text/x-python",
   "name": "python",
   "nbconvert_exporter": "python",
   "pygments_lexer": "ipython3",
   "version": "3.13.3"
  }
 },
 "nbformat": 4,
 "nbformat_minor": 5
}
