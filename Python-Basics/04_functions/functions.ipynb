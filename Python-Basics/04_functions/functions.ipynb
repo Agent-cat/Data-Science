{
 "cells": [
  {
   "cell_type": "code",
   "execution_count": 1,
   "id": "5282d385",
   "metadata": {},
   "outputs": [
    {
     "name": "stdout",
     "output_type": "stream",
     "text": [
      "vishnu has 100 rupees\n",
      "arsha has 200 rupees\n"
     ]
    }
   ],
   "source": [
    "def print_order(name, amount):\n",
    "    print(f\"{name} has {amount} rupees\")\n",
    "\n",
    "print_order(\"vishnu\", 100)\n",
    "print_order(\"arsha\", 200)    "
   ]
  },
  {
   "cell_type": "markdown",
   "id": "0408dbe6",
   "metadata": {},
   "source": [
    "---\n",
    "### return value"
   ]
  },
  {
   "cell_type": "code",
   "execution_count": 3,
   "id": "bb4f2c95",
   "metadata": {},
   "outputs": [
    {
     "name": "stdout",
     "output_type": "stream",
     "text": [
      "the value is 20 \n"
     ]
    }
   ],
   "source": [
    "def print_order( amount):\n",
    "    return amount+10\n",
    "\n",
    "x=print_order(10)\n",
    "print(f\"the value is {x} \")"
   ]
  },
  {
   "cell_type": "markdown",
   "id": "5f1ee1aa",
   "metadata": {},
   "source": [
    "---\n",
    "# nonlocal variable\n",
    "- to access a variable from the nearest enclosing scope that is not global\n",
    "- `nonlocal` is used to find just above the function scope\n",
    "- `global` is used to find the variable in the global scope"
   ]
  },
  {
   "cell_type": "code",
   "execution_count": null,
   "id": "01da0c4a",
   "metadata": {},
   "outputs": [
    {
     "name": "stdout",
     "output_type": "stream",
     "text": [
      "Result after nonlocal modification: 15\n"
     ]
    }
   ],
   "source": [
    "def outer():\n",
    "    num = 10\n",
    "    def inner():\n",
    "        nonlocal num\n",
    "        num += 5 # it modifys the out of scope num\n",
    "        return num\n",
    "    return inner()\n",
    "\n",
    "result = outer()\n",
    "print(f\"Result after nonlocal modification: {result}\")"
   ]
  },
  {
   "cell_type": "markdown",
   "id": "fb9d3856",
   "metadata": {},
   "source": [
    "---\n",
    "# Map\n",
    " `map(function, iterable)`"
   ]
  },
  {
   "cell_type": "code",
   "execution_count": 9,
   "id": "ac7b3864",
   "metadata": {},
   "outputs": [
    {
     "name": "stdout",
     "output_type": "stream",
     "text": [
      "1\n",
      "4\n",
      "9\n",
      "16\n",
      "25\n"
     ]
    }
   ],
   "source": [
    "list1=[1, 2, 3, 4, 5]\n",
    "def numbers(x):\n",
    "    return(x*x)\n",
    "x=map(numbers,list1)\n",
    "for i in x :\n",
    "    print(i)"
   ]
  },
  {
   "cell_type": "markdown",
   "id": "3aadd188",
   "metadata": {},
   "source": [
    "---\n",
    "#### `*args` and `**kwargs`"
   ]
  },
  {
   "cell_type": "code",
   "execution_count": null,
   "id": "a1eab9f1",
   "metadata": {},
   "outputs": [],
   "source": [
    "def example_func(a, b, c=3, *args, **kwargs):\n",
    "    print(f\"a: {a}\")                # positional\n",
    "    print(f\"b: {b}\")                # positional\n",
    "    print(f\"c: {c}\")                # keyword/default\n",
    "    print(f\"args: {args}\")          # additional positionals\n",
    "    print(f\"kwargs: {kwargs}\")      # additional keywords\n",
    "\n",
    "example_func(1, 2, 4, 5, 6, x=7, y=8)\n",
    "# Output:\n",
    "# a: 1\n",
    "# b: 2\n",
    "# c: 4\n",
    "# args: (5, 6)\n",
    "# kwargs: {'x': 7, 'y': 8}"
   ]
  },
  {
   "cell_type": "markdown",
   "id": "10710f11",
   "metadata": {},
   "source": [
    "---\n",
    "### Lambda function\n",
    "- `lambda` is an anonymous function"
   ]
  },
  {
   "cell_type": "code",
   "execution_count": 12,
   "id": "9ced084e",
   "metadata": {},
   "outputs": [
    {
     "name": "stdout",
     "output_type": "stream",
     "text": [
      "ginger\n",
      "ginger\n"
     ]
    }
   ],
   "source": [
    "chai_types=[\"ginger\",\"chocolate\",\"masala\",\"ginger\"]\n",
    "x=filter(lambda chai:chai==\"ginger\",chai_types)\n",
    "for i in x:\n",
    "    print(i)"
   ]
  },
  {
   "cell_type": "markdown",
   "id": "0ed7f486",
   "metadata": {},
   "source": [
    "### Built in functions \n",
    "[Python Built-in Functions](https://docs.python.org/3/library/functions.html)"
   ]
  }
 ],
 "metadata": {
  "kernelspec": {
   "display_name": "Python 3",
   "language": "python",
   "name": "python3"
  },
  "language_info": {
   "codemirror_mode": {
    "name": "ipython",
    "version": 3
   },
   "file_extension": ".py",
   "mimetype": "text/x-python",
   "name": "python",
   "nbconvert_exporter": "python",
   "pygments_lexer": "ipython3",
   "version": "3.13.3"
  }
 },
 "nbformat": 4,
 "nbformat_minor": 5
}
