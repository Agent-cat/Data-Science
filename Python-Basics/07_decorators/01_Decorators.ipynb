{
 "cells": [
  {
   "cell_type": "markdown",
   "id": "9a65313b",
   "metadata": {},
   "source": [
    "- It is just a wraper "
   ]
  },
  {
   "cell_type": "code",
   "execution_count": null,
   "id": "102247ca",
   "metadata": {},
   "outputs": [
    {
     "name": "stdout",
     "output_type": "stream",
     "text": [
      " Before the execution\n",
      "hi\n",
      " after the execution\n"
     ]
    }
   ],
   "source": [
    "def my_decorator(fnc):\n",
    "    def wraper():\n",
    "        print(\" Before the execution\")\n",
    "        fnc()\n",
    "        print(\" after the execution\")\n",
    "    return wraper\n",
    "\n",
    "@my_decorator # it takes the next line as input function\n",
    "def greet():\n",
    "    print(\"hi\")\n",
    "\n",
    "greet()    \n"
   ]
  }
 ],
 "metadata": {
  "kernelspec": {
   "display_name": "Python 3",
   "language": "python",
   "name": "python3"
  },
  "language_info": {
   "codemirror_mode": {
    "name": "ipython",
    "version": 3
   },
   "file_extension": ".py",
   "mimetype": "text/x-python",
   "name": "python",
   "nbconvert_exporter": "python",
   "pygments_lexer": "ipython3",
   "version": "3.13.3"
  }
 },
 "nbformat": 4,
 "nbformat_minor": 5
}
