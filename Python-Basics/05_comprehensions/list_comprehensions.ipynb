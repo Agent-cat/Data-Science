{
 "cells": [
  {
   "cell_type": "markdown",
   "id": "a3b13e6a",
   "metadata": {},
   "source": [
    "Syntax: `[expression for item in iterable if condition]`\n"
   ]
  },
  {
   "cell_type": "code",
   "execution_count": 5,
   "id": "29428daa",
   "metadata": {},
   "outputs": [
    {
     "name": "stdout",
     "output_type": "stream",
     "text": [
      "['iced lemmon chai Premium', ' iced chocolate chai Premium']\n"
     ]
    }
   ],
   "source": [
    "menu=[\"masala chai\",\"iced lemmon chai\",\" iced chocolate chai\"]\n",
    "\n",
    "x=[tea + \" Premium\" for tea in menu if \"iced\" in tea ]\n",
    "print(x)\n"
   ]
  }
 ],
 "metadata": {
  "kernelspec": {
   "display_name": "Python 3",
   "language": "python",
   "name": "python3"
  },
  "language_info": {
   "codemirror_mode": {
    "name": "ipython",
    "version": 3
   },
   "file_extension": ".py",
   "mimetype": "text/x-python",
   "name": "python",
   "nbconvert_exporter": "python",
   "pygments_lexer": "ipython3",
   "version": "3.13.3"
  }
 },
 "nbformat": 4,
 "nbformat_minor": 5
}
