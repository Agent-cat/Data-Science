{
 "cells": [
  {
   "cell_type": "markdown",
   "id": "5a5c4c81",
   "metadata": {},
   "source": [
    "## Same as list comprehensions"
   ]
  }
 ],
 "metadata": {
  "language_info": {
   "name": "python"
  }
 },
 "nbformat": 4,
 "nbformat_minor": 5
}
