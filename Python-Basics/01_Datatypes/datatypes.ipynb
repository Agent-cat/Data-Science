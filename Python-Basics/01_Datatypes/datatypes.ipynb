{
 "cells": [
  {
   "cell_type": "markdown",
   "id": "77c181e7",
   "metadata": {},
   "source": [
    "# Data Types in Python"
   ]
  },
  {
   "cell_type": "code",
   "execution_count": null,
   "id": "51f5dff0",
   "metadata": {},
   "outputs": [
    {
     "name": "stdout",
     "output_type": "stream",
     "text": [
      "value is 1.75\n",
      "value is 1\n",
      "my age is 20\n"
     ]
    }
   ],
   "source": [
    "age=20\n",
    "a=7\n",
    "b=4\n",
    "c=7/4 # prints decimal if ans is decimal\n",
    "d=7//4 # prints the abs value\n",
    "\n",
    "print(f\"value is {c}\") # 1.75\n",
    "print(f\"value is {d}\") # 1\n",
    "print(f\"my age is {age}\")\n"
   ]
  },
  {
   "cell_type": "markdown",
   "id": "52479e1a",
   "metadata": {},
   "source": [
    "# Lists"
   ]
  },
  {
   "cell_type": "code",
   "execution_count": null,
   "id": "9e7be360",
   "metadata": {},
   "outputs": [],
   "source": [
    "ingredients=[\"rice\",\"water\",\"pan\"]\n",
    "ingredients.append(\"one\")\n",
    "\n",
    "ingredients.remove(\"rice\")\n",
    "\n",
    "spices=[\"ginger\",\"cardamon\"]\n",
    "ingredients.extend(spices)\n",
    "\n",
    "ingredients.insert(2,\"vishnu\");\n",
    "\n",
    "last_elem=ingredients.pop() # removes the last \n",
    "\n",
    "ingredients.reverse() # used for reversing \n",
    "ingredients.sort()\n",
    "sugar_levels=[1,2,3,4,5]\n",
    "print(max(sugar_levels)) # 5\n",
    "print(min(sugar_levels)) # 1\n",
    "\n"
   ]
  },
  {
   "cell_type": "markdown",
   "id": "ba63554a",
   "metadata": {},
   "source": [
    "# Strings"
   ]
  },
  {
   "cell_type": "code",
   "execution_count": null,
   "id": "af573904",
   "metadata": {},
   "outputs": [],
   "source": [
    "type=\"aromatic tea\"\n",
    "# <variableName>[<Start>:<End>:<Step>]\n",
    "print(f\" {type[0:8]}\") # aromatic\n",
    "print(f\" {type[0:8:2]}\") # aoai\n",
    "print(f\" {type[:8]}\") # From starting to 7 th index\n",
    "print(f\" {type[8:]}\") # From 7 th index to last\n",
    "print(f\" {type[::-1]}\") # reverse a string\n",
    "\n"
   ]
  },
  {
   "cell_type": "markdown",
   "id": "a354ee5f",
   "metadata": {},
   "source": [
    "# Tuples"
   ]
  },
  {
   "cell_type": "code",
   "execution_count": null,
   "id": "10a8b17b",
   "metadata": {},
   "outputs": [],
   "source": [
    "name=(\"vishnu\",\"arsha\",\"vardhan\")\n",
    "(A,B,C)=name # Destructering or unpacking \n",
    "print(name[1]) \n",
    "print(A) \n",
    "print(B) \n",
    "print(C) \n"
   ]
  },
  {
   "cell_type": "markdown",
   "id": "b17712d4",
   "metadata": {},
   "source": [
    "# Sets\n",
    "- Sets are unique collections of items.\n",
    "- They are unordered and do not allow duplicate elements."
   ]
  },
  {
   "cell_type": "code",
   "execution_count": 6,
   "id": "372c2abb",
   "metadata": {},
   "outputs": [
    {
     "name": "stdout",
     "output_type": "stream",
     "text": [
      "{'water', 'oxygen'}\n",
      "{'water', 'oxygen', 'carbon'}\n",
      "{'water'}\n",
      "True\n"
     ]
    }
   ],
   "source": [
    "essential_items={\"oxygen\",\"water\",\"oxygen\"}\n",
    "non={\"water\",\"carbon\"}\n",
    "unique = essential_items|non # this is union\n",
    "repeated=essential_items&non # this is intersection\n",
    "only_essintial=essential_items-non # gives only essintial \n",
    "print(essential_items)\n",
    "print(unique)\n",
    "print(repeated)\n",
    "print(\"water\" in non)"
   ]
  },
  {
   "cell_type": "markdown",
   "id": "bbb47ad3",
   "metadata": {},
   "source": [
    "# Dictionary\n",
    "- Dictionaries are collections of key-value pairs.\n",
    "- They are unordered and mutable.\n",
    "- Keys must be unique and immutable (e.g., strings, numbers, tuples)."
   ]
  },
  {
   "cell_type": "code",
   "execution_count": 2,
   "id": "b76f5a2b",
   "metadata": {},
   "outputs": [
    {
     "name": "stdout",
     "output_type": "stream",
     "text": [
      "{'type': 'chai', 'size': 'medium', 'sugar': 'no', 'milk': 'yes'}\n",
      "chai\n",
      "medium\n",
      "dict_keys(['type', 'size', 'sugar', 'milk'])\n",
      "dict_values(['chai', 'medium', 'no', 'yes'])\n",
      "dict_items([('type', 'chai'), ('size', 'medium'), ('sugar', 'no'), ('milk', 'yes')])\n"
     ]
    }
   ],
   "source": [
    "chai_order=dict(type=\"chai\", size=\"medium\", sugar=\"no\", milk=\"yes\")\n",
    "print(chai_order)\n",
    "print(chai_order[\"type\"]) # Accessing value using key\n",
    "print(chai_order.get(\"size\")) # Accessing value using get method\n",
    "print(chai_order.keys()) # Get all keys\n",
    "print(chai_order.values()) # Get all values\n",
    "print(chai_order.items()) # Get all key-value pairs"
   ]
  }
 ],
 "metadata": {
  "kernelspec": {
   "display_name": "Python 3",
   "language": "python",
   "name": "python3"
  },
  "language_info": {
   "codemirror_mode": {
    "name": "ipython",
    "version": 3
   },
   "file_extension": ".py",
   "mimetype": "text/x-python",
   "name": "python",
   "nbconvert_exporter": "python",
   "pygments_lexer": "ipython3",
   "version": "3.13.3"
  }
 },
 "nbformat": 4,
 "nbformat_minor": 5
}
